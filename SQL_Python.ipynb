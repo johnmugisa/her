{
 "cells": [
  {
   "cell_type": "code",
   "execution_count": 2,
   "metadata": {},
   "outputs": [],
   "source": [
    "import numpy as onp\n",
    "import jax.numpy as jnp\n",
    "import scipy.io as sio\n",
    "import matplotlib.pyplot as plt\n",
    "import pandas as pd"
   ]
  },
  {
   "cell_type": "code",
   "execution_count": 3,
   "metadata": {},
   "outputs": [
    {
     "name": "stdout",
     "output_type": "stream",
     "text": [
      "Connection established\n"
     ]
    }
   ],
   "source": [
    "import mysql.connector\n",
    "\n",
    "def create_conn(config):\n",
    "    try:\n",
    "        connection = mysql.connector.connect(**config)\n",
    "        print(\"Connection established\")\n",
    "        return connection\n",
    "    except mysql.connector.Error as e:\n",
    "        print(f\"Error: {e}\")\n",
    "        return None\n",
    "\n",
    "\n",
    "config = {\n",
    "    'user': 'root',\n",
    "    'password': 'John123##',\n",
    "    'host': 'localhost',\n",
    "    'database': 'Nicole_db',\n",
    "    'raise_on_warnings': True\n",
    "}\n",
    "\n",
    "connection = create_conn(config)"
   ]
  },
  {
   "cell_type": "code",
   "execution_count": 16,
   "metadata": {},
   "outputs": [
    {
     "name": "stdout",
     "output_type": "stream",
     "text": [
      "(None, '20.06.2013', 'Female', 'Ugandan')\n",
      "(None, '20.06.2013', 'Female', 'Ugandan')\n",
      "(None, '20.06.2013', 'Female', 'Ugandan')\n",
      "(None, '10.01.2020', 'male', 'Ugandan')\n"
     ]
    }
   ],
   "source": [
    "def get_data(connection):\n",
    "    cursor = connection.cursor()\n",
    "    cursor.execute(\"SELECT * FROM Nicole_table\")\n",
    "\n",
    "    rows = cursor.fetchall()\n",
    "    for row in rows:\n",
    "        print(row)\n",
    "\n",
    "    cursor.close()\n",
    "\n",
    "\n",
    "if connection:\n",
    "    get_data(connection)\n",
    "    # connection.close()\n"
   ]
  },
  {
   "cell_type": "code",
   "execution_count": 5,
   "metadata": {},
   "outputs": [
    {
     "name": "stdout",
     "output_type": "stream",
     "text": [
      "['id', 'frequency', 'current', 'voltage', 'real_part', 'imag_part']\n"
     ]
    }
   ],
   "source": [
    "# mycursor = mydb.cursor()\n",
    "# mycursor.execute(\"CREATE TABLE fit_params (id INT AUTO_INCREMENT PRIMARY KEY, value INT)\")\n",
    "\n",
    "\n",
    "mydb = mysql.connector.connect(\n",
    "  host=\"localhost\",\n",
    "  user=\"root\",\n",
    "  password=\"John123##\",\n",
    "  database=\"Nicole_db\"\n",
    ")\n",
    "# Create a cursor object\n",
    "mycursor = mydb.cursor()\n",
    "\n",
    "# Execute the DESCRIBE statement\n",
    "mycursor.execute(\"DESCRIBE impedance_table2\")\n",
    "\n",
    "\n",
    "# Fetch the column names and print them\n",
    "columns = [col[0] for col in mycursor.fetchall()]\n",
    "print(columns)"
   ]
  },
  {
   "cell_type": "code",
   "execution_count": 12,
   "metadata": {},
   "outputs": [
    {
     "name": "stdout",
     "output_type": "stream",
     "text": [
      "(50,)\n",
      "(50,)\n"
     ]
    }
   ],
   "source": [
    "file_path = \"/home/mugisa/Desktop/HER/her/data/Z_her.npy\"\n",
    "impedance_data= onp.load(file_path, allow_pickle=True)\n",
    "\n",
    "popt_path = \"/home/mugisa/Desktop/HER/her/data/popt.npy\"\n",
    "popt= onp.load(popt_path, allow_pickle=True)\n",
    "\n",
    "V_path= \"/home/mugisa/Desktop/HER/her/data/V.npy\"\n",
    "voltage_data = onp.load(V_path, allow_pickle=\"True\")\n",
    "print(voltage_data.shape)\n",
    "\n",
    "\n",
    "I_path= \"/home/mugisa/Desktop/HER/her/data/I.npy\"\n",
    "current_data = onp.load(I_path, allow_pickle=True)\n",
    "print(current_data.shape)\n",
    "frequency_data_path= \"/home/mugisa/Desktop/HER/her/data/F_her.npy\"\n",
    "frequency_data = onp.load(frequency_data_path, allow_pickle=True)\n"
   ]
  },
  {
   "cell_type": "code",
   "execution_count": 6,
   "metadata": {},
   "outputs": [
    {
     "data": {
      "text/plain": [
       "array([-0.54757345, -0.5527073 , -0.55785155, -0.56300557, -0.56816804,\n",
       "       -0.57333755, -0.57851267, -0.58369136, -0.58887184, -0.5940529 ,\n",
       "       -0.59923315, -0.6044117 , -0.6095879 , -0.6147612 , -0.6199316 ,\n",
       "       -0.6250992 , -0.63026386, -0.63542634, -0.6405872 , -0.6457466 ,\n",
       "       -0.65090543, -0.65606385, -0.66122234, -0.6663815 , -0.6715411 ,\n",
       "       -0.6767016 , -0.68186295, -0.6870253 , -0.69218814, -0.6973516 ,\n",
       "       -0.70251524, -0.7076789 , -0.71284235, -0.71800506, -0.7231673 ,\n",
       "       -0.7283288 , -0.7334894 , -0.7386492 , -0.7438088 , -0.7489679 ,\n",
       "       -0.75412726, -0.7592875 , -0.7644486 , -0.7696117 , -0.77477694,\n",
       "       -0.7799449 , -0.78511584, -0.79028994, -0.79546684, -0.8006466 ],\n",
       "      dtype=float32)"
      ]
     },
     "execution_count": 6,
     "metadata": {},
     "output_type": "execute_result"
    }
   ],
   "source": [
    "a=onp.load(\"/home/mugisa/Desktop/HER/her/data/V.npy\", allow_pickle=\"True\")\n",
    "a"
   ]
  },
  {
   "cell_type": "code",
   "execution_count": 19,
   "metadata": {},
   "outputs": [
    {
     "name": "stdout",
     "output_type": "stream",
     "text": [
      "Type of mydata: <class 'numpy.ndarray'>\n",
      "Shape of mydata: (9, 50)\n"
     ]
    }
   ],
   "source": [
    "mydata=popt\n",
    "mycursor = mydb.cursor()\n",
    "mydata=popt\n",
    "# mydata = mydata.numpy()\n",
    "mydata = onp.array(popt)\n",
    "print(\"Type of mydata:\", type(mydata))\n",
    "print(\"Shape of mydata:\", mydata.shape)\n",
    "# Define the SQL statement\n",
    "num_cols = 50\n",
    "sql = \"INSERT INTO mytable (\"\n",
    "for i in range(num_cols):\n",
    "    sql += \"col\" + str(i+1) + \",\"\n",
    "sql = sql[:-1] + \") VALUES (\"\n",
    "for i in range(num_cols):\n",
    "    sql += \"%s,\"\n",
    "sql = sql[:-1] + \")\"\n",
    "\n",
    "# Insert the data in batches\n",
    "batch_size = 50\n",
    "num_rows = mydata.shape[0]\n",
    "num_batches = int(onp.ceil(num_rows / batch_size))\n",
    "for i in range(num_batches):\n",
    "    start_idx = i * batch_size\n",
    "    end_idx = min((i+1) * batch_size, num_rows)\n",
    "    batch_data = mydata[start_idx:end_idx,:]\n",
    "    mycursor.executemany(sql, batch_data.tolist())\n",
    "    mydb.commit()\n",
    "# Close the database connection\n",
    "mydb.close()"
   ]
  },
  {
   "cell_type": "code",
   "execution_count": 20,
   "metadata": {},
   "outputs": [
    {
     "ename": "OperationalError",
     "evalue": "MySQL Connection not available.",
     "output_type": "error",
     "traceback": [
      "\u001b[0;31m---------------------------------------------------------------------------\u001b[0m",
      "\u001b[0;31mOperationalError\u001b[0m                          Traceback (most recent call last)",
      "\u001b[0;32m/tmp/ipykernel_23387/1758853550.py\u001b[0m in \u001b[0;36m<module>\u001b[0;34m\u001b[0m\n\u001b[1;32m      1\u001b[0m \u001b[0mz\u001b[0m\u001b[0;34m=\u001b[0m\u001b[0mloaded_Z_her\u001b[0m\u001b[0;34m\u001b[0m\u001b[0;34m\u001b[0m\u001b[0m\n\u001b[0;32m----> 2\u001b[0;31m \u001b[0mmycursor\u001b[0m \u001b[0;34m=\u001b[0m \u001b[0mmydb\u001b[0m\u001b[0;34m.\u001b[0m\u001b[0mcursor\u001b[0m\u001b[0;34m(\u001b[0m\u001b[0;34m)\u001b[0m\u001b[0;34m\u001b[0m\u001b[0;34m\u001b[0m\u001b[0m\n\u001b[0m\u001b[1;32m      3\u001b[0m \u001b[0;34m\u001b[0m\u001b[0m\n\u001b[1;32m      4\u001b[0m \u001b[0;31m# mydata = mydata.numpy()\u001b[0m\u001b[0;34m\u001b[0m\u001b[0;34m\u001b[0m\u001b[0m\n\u001b[1;32m      5\u001b[0m \u001b[0mmydata\u001b[0m \u001b[0;34m=\u001b[0m \u001b[0monp\u001b[0m\u001b[0;34m.\u001b[0m\u001b[0marray\u001b[0m\u001b[0;34m(\u001b[0m\u001b[0mpopt\u001b[0m\u001b[0;34m)\u001b[0m\u001b[0;34m\u001b[0m\u001b[0;34m\u001b[0m\u001b[0m\n",
      "\u001b[0;32m~/anaconda3/envs/numerical/lib/python3.9/site-packages/mysql/connector/connection_cext.py\u001b[0m in \u001b[0;36mcursor\u001b[0;34m(self, buffered, raw, prepared, cursor_class, dictionary, named_tuple)\u001b[0m\n\u001b[1;32m    673\u001b[0m         \u001b[0mself\u001b[0m\u001b[0;34m.\u001b[0m\u001b[0mhandle_unread_result\u001b[0m\u001b[0;34m(\u001b[0m\u001b[0mprepared\u001b[0m\u001b[0;34m)\u001b[0m\u001b[0;34m\u001b[0m\u001b[0;34m\u001b[0m\u001b[0m\n\u001b[1;32m    674\u001b[0m         \u001b[0;32mif\u001b[0m \u001b[0;32mnot\u001b[0m \u001b[0mself\u001b[0m\u001b[0;34m.\u001b[0m\u001b[0mis_connected\u001b[0m\u001b[0;34m(\u001b[0m\u001b[0;34m)\u001b[0m\u001b[0;34m:\u001b[0m\u001b[0;34m\u001b[0m\u001b[0;34m\u001b[0m\u001b[0m\n\u001b[0;32m--> 675\u001b[0;31m             \u001b[0;32mraise\u001b[0m \u001b[0mOperationalError\u001b[0m\u001b[0;34m(\u001b[0m\u001b[0;34m\"MySQL Connection not available.\"\u001b[0m\u001b[0;34m)\u001b[0m\u001b[0;34m\u001b[0m\u001b[0;34m\u001b[0m\u001b[0m\n\u001b[0m\u001b[1;32m    676\u001b[0m         \u001b[0;32mif\u001b[0m \u001b[0mcursor_class\u001b[0m \u001b[0;32mis\u001b[0m \u001b[0;32mnot\u001b[0m \u001b[0;32mNone\u001b[0m\u001b[0;34m:\u001b[0m\u001b[0;34m\u001b[0m\u001b[0;34m\u001b[0m\u001b[0m\n\u001b[1;32m    677\u001b[0m             \u001b[0;32mif\u001b[0m \u001b[0;32mnot\u001b[0m \u001b[0missubclass\u001b[0m\u001b[0;34m(\u001b[0m\u001b[0mcursor_class\u001b[0m\u001b[0;34m,\u001b[0m \u001b[0mCMySQLCursor\u001b[0m\u001b[0;34m)\u001b[0m\u001b[0;34m:\u001b[0m\u001b[0;34m\u001b[0m\u001b[0;34m\u001b[0m\u001b[0m\n",
      "\u001b[0;31mOperationalError\u001b[0m: MySQL Connection not available."
     ]
    }
   ],
   "source": [
    "z=loaded_Z_her\n",
    "mycursor = mydb.cursor()\n",
    "\n",
    "# mydata = mydata.numpy()\n",
    "mydata = onp.array(popt)\n",
    "print(\"Type of mydata:\", type(z))\n",
    "print(\"Shape of mydata:\", z.shape)\n",
    "# Define the SQL statement\n",
    "num_cols = 50\n",
    "sql = \"INSERT INTO mytable (\"\n",
    "for i in range(num_cols):\n",
    "    sql += \"col\" + str(i+1) + \",\"\n",
    "sql = sql[:-1] + \") VALUES (\"\n",
    "for i in range(num_cols):\n",
    "    sql += \"%s,\"\n",
    "sql = sql[:-1] + \")\"\n",
    "\n",
    "# Insert the data in batches\n",
    "batch_size = 50\n",
    "num_rows = mydata.shape[0]\n",
    "num_batches = int(onp.ceil(num_rows / batch_size))\n",
    "for i in range(num_batches):\n",
    "    start_idx = i * batch_size\n",
    "    end_idx = min((i+1) * batch_size, num_rows)\n",
    "    batch_data = mydata[start_idx:end_idx,:]\n",
    "    mycursor.executemany(sql, batch_data.tolist())\n",
    "    mydb.commit()\n",
    "# Close the database connection\n",
    "mydb.close()"
   ]
  },
  {
   "cell_type": "code",
   "execution_count": null,
   "metadata": {},
   "outputs": [],
   "source": []
  },
  {
   "cell_type": "code",
   "execution_count": null,
   "metadata": {},
   "outputs": [],
   "source": [
    "import jax.numpy as jnp\n",
    "import numpy as np\n",
    "\n",
    "# Convert popt to a NumPy array\n",
    "# mydata = jnp.array(popt)\n",
    "# mydata = mydata.numpy()\n",
    "mydata = np.array(popt)\n",
    "print(\"Type of popt:\", type(mydata))\n",
    "print(\"Shape of popt:\", mydata.shape)\n",
    "# Create a cursor object\n",
    "mycursor = mydb.cursor()\n",
    "\n",
    "# Define the SQL statement\n",
    "num_cols = mydata.shape[1]\n",
    "sql = \"INSERT INTO myarray  (\"\n",
    "for i in range(num_cols):\n",
    "    sql += \"value\" + str(i+1) + \",\"\n",
    "sql = sql[:-1] + \") VALUES (\"\n",
    "for i in range(num_cols):\n",
    "    sql += \"%s,\"\n",
    "sql = sql[:-1] + \")\"\n",
    "\n",
    "# Insert the data in batches\n",
    "batch_size = 50\n",
    "num_rows = mydata.shape[0]\n",
    "num_batches = int(np.ceil(num_rows / batch_size))\n",
    "for i in range(num_batches):\n",
    "    start_idx = i * batch_size\n",
    "    end_idx = min((i+1) * batch_size, num_rows)\n",
    "    batch_data = mydata[start_idx:end_idx,:]\n",
    "    mycursor.executemany(sql, batch_data.tolist())\n",
    "    mydb.commit()\n",
    "\n",
    "# Close the database connection\n",
    "mydb.close()"
   ]
  },
  {
   "cell_type": "code",
   "execution_count": 9,
   "metadata": {},
   "outputs": [
    {
     "ename": "NameError",
     "evalue": "name 'popt' is not defined",
     "output_type": "error",
     "traceback": [
      "\u001b[0;31m---------------------------------------------------------------------------\u001b[0m",
      "\u001b[0;31mNameError\u001b[0m                                 Traceback (most recent call last)",
      "\u001b[0;32m/tmp/ipykernel_39751/2586816546.py\u001b[0m in \u001b[0;36m<module>\u001b[0;34m\u001b[0m\n\u001b[1;32m     46\u001b[0m \u001b[0;31m# Insert the parameter data into the table\u001b[0m\u001b[0;34m\u001b[0m\u001b[0;34m\u001b[0m\u001b[0m\n\u001b[1;32m     47\u001b[0m \u001b[0mbatch_size\u001b[0m \u001b[0;34m=\u001b[0m \u001b[0;36m50\u001b[0m\u001b[0;34m\u001b[0m\u001b[0;34m\u001b[0m\u001b[0m\n\u001b[0;32m---> 48\u001b[0;31m \u001b[0mnum_rows\u001b[0m \u001b[0;34m=\u001b[0m \u001b[0mpopt\u001b[0m\u001b[0;34m.\u001b[0m\u001b[0mshape\u001b[0m\u001b[0;34m[\u001b[0m\u001b[0;36m0\u001b[0m\u001b[0;34m]\u001b[0m\u001b[0;34m\u001b[0m\u001b[0;34m\u001b[0m\u001b[0m\n\u001b[0m\u001b[1;32m     49\u001b[0m \u001b[0mnum_batches\u001b[0m \u001b[0;34m=\u001b[0m \u001b[0mint\u001b[0m\u001b[0;34m(\u001b[0m\u001b[0mnp\u001b[0m\u001b[0;34m.\u001b[0m\u001b[0mceil\u001b[0m\u001b[0;34m(\u001b[0m\u001b[0mnum_rows\u001b[0m \u001b[0;34m/\u001b[0m \u001b[0mbatch_size\u001b[0m\u001b[0;34m)\u001b[0m\u001b[0;34m)\u001b[0m\u001b[0;34m\u001b[0m\u001b[0;34m\u001b[0m\u001b[0m\n\u001b[1;32m     50\u001b[0m \u001b[0;32mfor\u001b[0m \u001b[0mi\u001b[0m \u001b[0;32min\u001b[0m \u001b[0mrange\u001b[0m\u001b[0;34m(\u001b[0m\u001b[0mnum_batches\u001b[0m\u001b[0;34m)\u001b[0m\u001b[0;34m:\u001b[0m\u001b[0;34m\u001b[0m\u001b[0;34m\u001b[0m\u001b[0m\n",
      "\u001b[0;31mNameError\u001b[0m: name 'popt' is not defined"
     ]
    }
   ],
   "source": [
    "# saving multiple files in mysql\n",
    "import numpy as np\n",
    "import mysql.connector\n",
    "\n",
    "# Connect to the MySQL database\n",
    "mydb = mysql.connector.connect(\n",
    "    host=\"localhost\",\n",
    "    user=\"root\",\n",
    "    password=\"John123##\",\n",
    "    database=\"Nicole_db\"\n",
    ")\n",
    "\n",
    "# Create a cursor object\n",
    "mycursor = mydb.cursor()\n",
    "\n",
    "# Sample impedance, frequency, and voltage data\n",
    "impedance_data = np.random.rand(35, 50) + 1j * np.random.rand(35, 50)\n",
    "frequency_data = np.random.rand(35, 1)\n",
    "voltage_data = np.random.rand(50)\n",
    "current_data = np.random.rand(50)\n",
    "\n",
    "# Create a new table for the impedance data\n",
    "mycursor.execute(\n",
    "    \"CREATE TABLE impedance_table2 (id INT AUTO_INCREMENT PRIMARY KEY, frequency FLOAT,  real_part FLOAT, imag_part FLOAT)\")\n",
    "\n",
    "# Insert the impedance data into the table\n",
    "batch_size = 50\n",
    "num_rows = impedance_data.shape[0]\n",
    "num_batches = int(np.ceil(num_rows / batch_size))\n",
    "for i in range(num_batches):\n",
    "    start_idx = i * batch_size\n",
    "    end_idx = min((i+1) * batch_size, num_rows)\n",
    "    batch_impedance = impedance_data[start_idx:end_idx, :]\n",
    "    batch_frequency = frequency_data[start_idx:end_idx, :]\n",
    "    for j in range(batch_impedance.shape[0]):\n",
    "        for k in range(batch_impedance.shape[1]):\n",
    "            sql = \"INSERT INTO impedance_table2 (frequency, real_part, imag_part) VALUES (%s, %s, %s)\"\n",
    "            val = (float(batch_frequency[j]), float(\n",
    "                batch_impedance[j, k].real), float(batch_impedance[j, k].imag))\n",
    "            mycursor.execute(sql, val)\n",
    "\n",
    "# Create a new table for the parameter data\n",
    "mycursor.execute(\"CREATE TABLE parameter_table2 (id INT AUTO_INCREMENT PRIMARY KEY, current FLOAT, voltage FLOAT, \" +\n",
    "                 \"param1 FLOAT, param2 FLOAT, param3 FLOAT, param4 FLOAT, param5 FLOAT, param6 FLOAT, param7 FLOAT, param8 FLOAT, param9 FLOAT)\")\n",
    "\n",
    "# Insert the parameter data into the table\n",
    "batch_size = 50\n",
    "num_rows = popt.shape[0]\n",
    "num_batches = int(np.ceil(num_rows / batch_size))\n",
    "for i in range(num_batches):\n",
    "    start_idx = i * batch_size\n",
    "    end_idx = min((i+1) * batch_size, num_rows)\n",
    "    batch_data = popt[start_idx:end_idx, :]\n",
    "    for j in range(batch_data.shape[0]):\n",
    "        sql = \"INSERT INTO parameter_table2 (current, voltage, param1, param2, param3, param4, param5, param6, param7, param8, param9) \" + \\\n",
    "              \"VALUES (%s, %s, %s, %s, %s, %s, %s, %s, %s, %s, %s)\"\n",
    "        val = (float(current_data[j]), float(voltage_data[j]), float(batch_data[j, 0]), float(batch_data[j, 1]),\n",
    "               float(batch_data[j, 2]), float(batch_data[j, 3]), float(\n",
    "                   batch_data[j, 4]), float(batch_data[j, 5]),\n",
    "               float(batch_data[j, 6]), float(batch_data[j, 7]), float(batch_data[j, 8]))\n",
    "        mycursor.execute(sql, val)\n",
    "\n",
    "# Commit the changes and close the connection\n",
    "mydb.commit()\n",
    "# mydb.close()\n"
   ]
  },
  {
   "cell_type": "code",
   "execution_count": 13,
   "metadata": {},
   "outputs": [],
   "source": [
    "import numpy as np\n",
    "import mysql.connector\n",
    "\n",
    "# Connect to the MySQL database\n",
    "mydb = mysql.connector.connect(\n",
    "  host=\"localhost\",\n",
    "  user=\"root\",\n",
    "  password=\"John123##\",\n",
    "  database=\"Nicole_db\"\n",
    ")\n",
    "\n",
    "# Create a cursor object\n",
    "mycursor = mydb.cursor()\n",
    "\n",
    "# Sample impedance, frequency, voltage, current, and parameter data\n",
    "# impedance_data = onp.random.rand(35, 50) + 1j * onp.random.rand(35, 50)\n",
    "# frequency_data = onp.random.rand(35, 1)\n",
    "# voltage_data = onp.random.rand(50)\n",
    "# current_data = onp.random.rand(50)\n",
    "# popt = onp.random.rand(9, 50)\n",
    "\n",
    "# Create a new table for the impedance data\n",
    "mycursor.execute(\"CREATE TABLE impedance_table2 (id INT AUTO_INCREMENT PRIMARY KEY, frequency FLOAT, real_part FLOAT, imag_part FLOAT)\")\n",
    "\n",
    "# Insert the impedance data into the table\n",
    "batch_size = 50\n",
    "num_rows = impedance_data.shape[0]\n",
    "num_batches = int(np.ceil(num_rows / batch_size))\n",
    "for i in range(num_batches):\n",
    "    start_idx = i * batch_size\n",
    "    end_idx = min((i+1) * batch_size, num_rows)\n",
    "    batch_impedance = impedance_data[start_idx:end_idx,:]\n",
    "    batch_frequency = frequency_data[start_idx:end_idx,:]\n",
    "    for j in range(batch_impedance.shape[0]):\n",
    "        for k in range(batch_impedance.shape[1]):\n",
    "            sql = \"INSERT INTO impedance_table2 (frequency,real_part, imag_part) VALUES (%s, %s, %s)\"\n",
    "            val = (float(batch_frequency[j][0]), float(batch_impedance[j,k].real), float(batch_impedance[j,k].imag))\n",
    "            mycursor.execute(sql, val)\n",
    "\n",
    "# Create a new table for the parameter data\n",
    "mycursor.execute(\"CREATE TABLE parameter_table2 (id INT AUTO_INCREMENT PRIMARY KEY, current FLOAT, voltage FLOAT, \" +\n",
    "                 \"param1 FLOAT, param2 FLOAT, param3 FLOAT, param4 FLOAT, param5 FLOAT, param6 FLOAT, param7 FLOAT, param8 FLOAT, param9 FLOAT)\")\n",
    "\n",
    "# Insert the parameter data into the table\n",
    "batch_size = 50\n",
    "num_rows = popt.shape[1]\n",
    "num_batches = int(np.ceil(num_rows / batch_size))\n",
    "for i in range(num_batches):\n",
    "    start_idx = i * batch_size\n",
    "    end_idx = min((i+1) * batch_size, num_rows)\n",
    "    batch_data = popt[:, start_idx:end_idx]\n",
    "    for j in range(batch_data.shape[1]):\n",
    "        sql = \"INSERT INTO parameter_table2 (current, voltage, param1, param2, param3, param4, param5, param6, param7, param8, param9) \" + \\\n",
    "              \"VALUES (%s, %s, %s, %s, %s, %s, %s, %s, %s, %s, %s)\"\n",
    "        val = (float(current_data[j]), float(voltage_data[j]), float(batch_data[0,j]), float(batch_data[1,j]),\n",
    "               float(batch_data[2,j]), float(batch_data[3,j]), float(batch_data[4,j]), float(batch_data[5,j]),\n",
    "               float(batch_data[6,j]), float(batch_data[7,j]), float(batch_data[8,j]))\n",
    "        mycursor.execute(sql, val)\n",
    "\n",
    "\n",
    "# Commit the changes and close the connection\n",
    "mydb.commit()\n",
    "# mydb.close()\n"
   ]
  },
  {
   "cell_type": "code",
   "execution_count": 13,
   "metadata": {},
   "outputs": [
    {
     "name": "stdout",
     "output_type": "stream",
     "text": [
      "['id', 'frequency', 'real_part', 'imag_part']\n"
     ]
    }
   ],
   "source": [
    "#reading back the data\n",
    "mydb = mysql.connector.connect(\n",
    "  host=\"localhost\",\n",
    "  user=\"root\",\n",
    "  password=\"John123##\",\n",
    "  database=\"Nicole_db\"\n",
    ")\n",
    "\n",
    "# Create a cursor object\n",
    "mycursor = mydb.cursor()\n",
    "mycursor.execute(\"DESCRIBE impedance_table2\")\n",
    "\n",
    "# Fetch the column names and print them\n",
    "columns = [col[0] for col in mycursor.fetchall()]\n",
    "print(columns)"
   ]
  },
  {
   "cell_type": "code",
   "execution_count": 14,
   "metadata": {},
   "outputs": [
    {
     "name": "stdout",
     "output_type": "stream",
     "text": [
      "['id', 'current', 'voltage', 'param1', 'param2', 'param3', 'param4', 'param5', 'param6', 'param7', 'param8', 'param9']\n"
     ]
    }
   ],
   "source": [
    "#reading back the data\n",
    "mydb = mysql.connector.connect(\n",
    "  host=\"localhost\",\n",
    "  user=\"root\",\n",
    "  password=\"John123##\",\n",
    "  database=\"Nicole_db\"\n",
    ")\n",
    "\n",
    "# Create a cursor object\n",
    "mycursor = mydb.cursor()\n",
    "mycursor.execute(\"DESCRIBE parameter_table2\")\n",
    "\n",
    "# Fetch the column names and print them\n",
    "columns = [col[0] for col in mycursor.fetchall()]\n",
    "print(columns)"
   ]
  },
  {
   "cell_type": "code",
   "execution_count": 17,
   "metadata": {},
   "outputs": [
    {
     "name": "stdout",
     "output_type": "stream",
     "text": [
      "[[27401.5 -38221.8j   27654.5 -37049.3j   27961.7 -35725.9j   ...\n",
      "  19567.7  -6504.45j  19846.2  -6841.12j  20152.4  -7216.17j ]\n",
      " [13186.1 -18631.9j   13261.  -18353.8j   13362.9 -18051.9j   ...\n",
      "  14734.4  -6823.59j  14803.   -7018.54j  14876.1  -7235.85j ]\n",
      " [ 9837.29-13087.1j    9865.79-12939.3j    9909.51-12783.7j   ...\n",
      "  12189.9  -6695.95j  12212.7  -6820.88j  12235.2  -6960.13j ]\n",
      " ...\n",
      " [ 1738.06  -173.703j  1738.04  -173.67j   1738.04  -173.652j ...\n",
      "   1689.02  -176.521j  1687.1   -176.741j  1685.22  -176.959j]\n",
      " [ 1722.85  -154.492j  1723.04  -154.371j  1723.2   -154.314j ...\n",
      "   1674.02  -158.268j  1672.03  -158.272j  1670.05  -158.274j]\n",
      " [ 1706.49  -142.211j  1706.54  -142.057j  1706.6   -141.915j ...\n",
      "   1658.03  -142.141j  1656.06  -142.179j  1654.1   -142.221j]]\n"
     ]
    }
   ],
   "source": [
    "# retrieving impedance_data\n",
    "# Create a cursor object\n",
    "mycursor = mydb.cursor()\n",
    "\n",
    "# Retrieve the impedance data\n",
    "mycursor.execute(\"SELECT real_part, imag_part FROM impedance_table2\")\n",
    "result = mycursor.fetchall()\n",
    "impedance_data = onp.array([complex(r[0], r[1]) for r in result])\n",
    "num_rows = 35\n",
    "num_cols = 50\n",
    "\n",
    "# Given the flattened array of complex numbers\n",
    "impedance_data = onp.array([complex(r[0], r[1]) for r in result])\n",
    "\n",
    "# Reshape the flattened array to the original shape\n",
    "impedance_matrix = impedance_data.reshape(num_rows, num_cols)\n",
    "\n",
    "\n",
    "mycursor.execute(\"SELECT voltage FROM parameter_table2\")\n",
    "result = mycursor.fetchall()\n",
    "voltage = onp.array([r[0] for r in result])\n",
    "\n",
    "# Retrieve the frequency data\n",
    "mycursor.execute(\"SELECT frequency FROM impedance_table2\")\n",
    "result = mycursor.fetchall()\n",
    "frequency = onp.array([r[0] for r in result])\n",
    "\n",
    "mycursor.execute(\"SELECT current FROM parameter_table2\")\n",
    "result = mycursor.fetchall()\n",
    "current = onp.array([r[0] for r in result])\n",
    "print(impedance_matrix)"
   ]
  },
  {
   "cell_type": "code",
   "execution_count": 18,
   "metadata": {},
   "outputs": [
    {
     "data": {
      "image/png": "[encoded data removed]",
      "text/plain": [
       "<Figure size 432x288 with 1 Axes>"
      ]
     },
     "metadata": {
      "needs_background": "light"
     },
     "output_type": "display_data"
    }
   ],
   "source": [
    "Z_her_conj = onp.conj(impedance_matrix[:,10])  # Python uses 0-based indexing, so the 10th row is at index 9\n",
    "\n",
    "# Complex conjugate plot\n",
    "plt.figure()\n",
    "plt.plot(Z_her_conj.real, Z_her_conj.imag)\n",
    "plt.xlabel('Real Part')\n",
    "plt.ylabel('Imaginary Part')\n",
    "plt.title('Complex Conjugate of Z_her[9, :]')\n",
    "plt.show()"
   ]
  },
  {
   "cell_type": "code",
   "execution_count": 19,
   "metadata": {},
   "outputs": [
    {
     "data": {
      "image/png": "[encoded data removed]",
      "text/plain": [
       "<Figure size 432x288 with 1 Axes>"
      ]
     },
     "metadata": {
      "needs_background": "light"
     },
     "output_type": "display_data"
    }
   ],
   "source": [
    "plt.figure()\n",
    "plt.plot(voltage, current)\n",
    "plt.xlabel('voltage')\n",
    "plt.ylabel('current')\n",
    "plt.title('cv')\n",
    "plt.show()"
   ]
  },
  {
   "cell_type": "code",
   "execution_count": null,
   "metadata": {},
   "outputs": [],
   "source": [
    "Z_her_conj = onp.conj(Z_her[:,10])  # Python uses 0-based indexing, so the 10th row is at index 9\n",
    "\n",
    "# Complex conjugate plot\n",
    "plt.figure()\n",
    "plt.plot(Z_her_conj.real, Z_her_conj.imag)\n",
    "plt.xlabel('Real Part')\n",
    "plt.ylabel('Imaginary Part')\n",
    "plt.title('Complex Conjugate of Z_her[9, :]')\n",
    "plt.show()\n"
   ]
  },
  {
   "cell_type": "code",
   "execution_count": 2,
   "metadata": {},
   "outputs": [
    {
     "name": "stdout",
     "output_type": "stream",
     "text": [
      "Connection established\n"
     ]
    }
   ],
   "source": [
    "import mysql.connector\n",
    "\n",
    "def create_conn(config):\n",
    "    try:\n",
    "        connection = mysql.connector.connect(**config)\n",
    "        print(\"Connection established\")\n",
    "        return connection\n",
    "    except mysql.connector.Error as e:\n",
    "        print(f\"Error: {e}\")\n",
    "        return None\n",
    "\n",
    "\n",
    "config = {\n",
    "    'user': 'root',\n",
    "    'password': 'John123##',\n",
    "    'host': 'localhost',\n",
    "    'database': 'Nicole_db',\n",
    "    'raise_on_warnings': True\n",
    "}\n",
    "\n",
    "connection = create_conn(config)"
   ]
  },
  {
   "cell_type": "code",
   "execution_count": 10,
   "metadata": {},
   "outputs": [],
   "source": [
    "# Connect to the MySQL database\n",
    "mydb = mysql.connector.connect(\n",
    "  host=\"localhost\",\n",
    "  user=\"root\",\n",
    "  password=\"John123##\",\n",
    "  database=\"Nicole_db\"\n",
    ")\n",
    "\n",
    "\n",
    "mycursor = mydb.cursor()\n",
    "\n",
    "# mycursor.execute(\"SHOW TABLES\") #show the table\n",
    "# mycursor.execute(\"DELETE FROM impedance_table\") #clearing the table\n",
    "\n",
    "sql = \"DROP TABLE impedance_table2\"  #deleting the table\n",
    "mycursor.execute(sql) #deleting the table\n",
    "mydb.commit() #deleting the table\n",
    "# tables = mycursor.fetchall()  #show the table\n",
    "# print(tables)   #show the table"
   ]
  },
  {
   "cell_type": "code",
   "execution_count": 11,
   "metadata": {},
   "outputs": [],
   "source": [
    "# Connect to the MySQL database\n",
    "mydb = mysql.connector.connect(\n",
    "  host=\"localhost\",\n",
    "  user=\"root\",\n",
    "  password=\"John123##\",\n",
    "  database=\"Nicole_db\"\n",
    ")\n",
    "\n",
    "\n",
    "mycursor = mydb.cursor()\n",
    "\n",
    "# mycursor.execute(\"SHOW TABLES\") #show the table\n",
    "# mycursor.execute(\"DELETE FROM impedance_table\") #clearing the table\n",
    "\n",
    "sql = \"DROP TABLE parameter_table2\"  #deleting the table\n",
    "mycursor.execute(sql) #deleting the table\n",
    "mydb.commit() #deleting the table\n",
    "# tables = mycursor.fetchall()  #show the table\n",
    "# print(tables)   #show the table"
   ]
  }
 ],
 "metadata": {
  "kernelspec": {
   "display_name": "numerical",
   "language": "python",
   "name": "python3"
  },
  "language_info": {
   "codemirror_mode": {
    "name": "ipython",
    "version": 3
   },
   "file_extension": ".py",
   "mimetype": "text/x-python",
   "name": "python",
   "nbconvert_exporter": "python",
   "pygments_lexer": "ipython3",
   "version": "3.9.7"
  },
  "orig_nbformat": 4
 },
 "nbformat": 4,
 "nbformat_minor": 2
}
